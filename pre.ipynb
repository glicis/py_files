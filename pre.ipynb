{
 "cells": [
  {
   "cell_type": "code",
   "execution_count": 1,
   "metadata": {},
   "outputs": [],
   "source": [
    "import pandas as pd\n",
    "import sklearn as sk\n",
    "import matplotlib.pyplot as plt\n",
    "from sklearn.model_selection import train_test_split, cross_val_predict\n",
    "import seaborn as sns\n",
    "sns.set_style('whitegrid')\n",
    "import numpy as np\n",
    "from sklearn.decomposition import PCA\n",
    "from sklearn.metrics import confusion_matrix, precision_score, recall_score, f1_score,accuracy_score"
   ]
  },
  {
   "cell_type": "code",
   "execution_count": 2,
   "metadata": {},
   "outputs": [
    {
     "data": {
      "text/html": [
       "<div>\n",
       "<style scoped>\n",
       "    .dataframe tbody tr th:only-of-type {\n",
       "        vertical-align: middle;\n",
       "    }\n",
       "\n",
       "    .dataframe tbody tr th {\n",
       "        vertical-align: top;\n",
       "    }\n",
       "\n",
       "    .dataframe thead th {\n",
       "        text-align: right;\n",
       "    }\n",
       "</style>\n",
       "<table border=\"1\" class=\"dataframe\">\n",
       "  <thead>\n",
       "    <tr style=\"text-align: right;\">\n",
       "      <th></th>\n",
       "      <th>患者年龄</th>\n",
       "      <th>是否绝经</th>\n",
       "      <th>迈瑞CA125</th>\n",
       "      <th>迈瑞HE4</th>\n",
       "      <th>迈瑞CA199</th>\n",
       "      <th>迈瑞AFP</th>\n",
       "      <th>迈瑞NSE</th>\n",
       "      <th>迈瑞CEA</th>\n",
       "      <th>迈瑞IGF-1</th>\n",
       "      <th>迈瑞CA153</th>\n",
       "      <th>迈瑞CYFRA 21-1</th>\n",
       "      <th>良恶</th>\n",
       "    </tr>\n",
       "  </thead>\n",
       "  <tbody>\n",
       "    <tr>\n",
       "      <th>0</th>\n",
       "      <td>23</td>\n",
       "      <td>0</td>\n",
       "      <td>712.66</td>\n",
       "      <td>188.21</td>\n",
       "      <td>20.29</td>\n",
       "      <td>2.77</td>\n",
       "      <td>20.15</td>\n",
       "      <td>0.85</td>\n",
       "      <td>24.37</td>\n",
       "      <td>10.56</td>\n",
       "      <td>18.23</td>\n",
       "      <td>1</td>\n",
       "    </tr>\n",
       "    <tr>\n",
       "      <th>1</th>\n",
       "      <td>49</td>\n",
       "      <td>0</td>\n",
       "      <td>437.61</td>\n",
       "      <td>386.24</td>\n",
       "      <td>9.23</td>\n",
       "      <td>2.73</td>\n",
       "      <td>25.52</td>\n",
       "      <td>2.65</td>\n",
       "      <td>29.37</td>\n",
       "      <td>29.32</td>\n",
       "      <td>8.95</td>\n",
       "      <td>1</td>\n",
       "    </tr>\n",
       "    <tr>\n",
       "      <th>2</th>\n",
       "      <td>31</td>\n",
       "      <td>0</td>\n",
       "      <td>55.73</td>\n",
       "      <td>37.53</td>\n",
       "      <td>1.00</td>\n",
       "      <td>80.65</td>\n",
       "      <td>13.65</td>\n",
       "      <td>1.27</td>\n",
       "      <td>132.43</td>\n",
       "      <td>13.39</td>\n",
       "      <td>1.54</td>\n",
       "      <td>1</td>\n",
       "    </tr>\n",
       "    <tr>\n",
       "      <th>3</th>\n",
       "      <td>46</td>\n",
       "      <td>0</td>\n",
       "      <td>592.89</td>\n",
       "      <td>453.94</td>\n",
       "      <td>9.88</td>\n",
       "      <td>2.84</td>\n",
       "      <td>15.98</td>\n",
       "      <td>0.45</td>\n",
       "      <td>61.16</td>\n",
       "      <td>12.18</td>\n",
       "      <td>21.98</td>\n",
       "      <td>1</td>\n",
       "    </tr>\n",
       "    <tr>\n",
       "      <th>4</th>\n",
       "      <td>49</td>\n",
       "      <td>0</td>\n",
       "      <td>392.84</td>\n",
       "      <td>1500.00</td>\n",
       "      <td>1.00</td>\n",
       "      <td>4.14</td>\n",
       "      <td>16.76</td>\n",
       "      <td>1.64</td>\n",
       "      <td>52.47</td>\n",
       "      <td>58.86</td>\n",
       "      <td>4.01</td>\n",
       "      <td>1</td>\n",
       "    </tr>\n",
       "    <tr>\n",
       "      <th>...</th>\n",
       "      <td>...</td>\n",
       "      <td>...</td>\n",
       "      <td>...</td>\n",
       "      <td>...</td>\n",
       "      <td>...</td>\n",
       "      <td>...</td>\n",
       "      <td>...</td>\n",
       "      <td>...</td>\n",
       "      <td>...</td>\n",
       "      <td>...</td>\n",
       "      <td>...</td>\n",
       "      <td>...</td>\n",
       "    </tr>\n",
       "    <tr>\n",
       "      <th>377</th>\n",
       "      <td>54</td>\n",
       "      <td>1</td>\n",
       "      <td>5.58</td>\n",
       "      <td>41.31</td>\n",
       "      <td>12.50</td>\n",
       "      <td>2.10</td>\n",
       "      <td>14.64</td>\n",
       "      <td>0.50</td>\n",
       "      <td>96.78</td>\n",
       "      <td>15.10</td>\n",
       "      <td>2.56</td>\n",
       "      <td>0</td>\n",
       "    </tr>\n",
       "    <tr>\n",
       "      <th>378</th>\n",
       "      <td>56</td>\n",
       "      <td>1</td>\n",
       "      <td>5387.80</td>\n",
       "      <td>1500.00</td>\n",
       "      <td>80.47</td>\n",
       "      <td>3.23</td>\n",
       "      <td>29.62</td>\n",
       "      <td>1.23</td>\n",
       "      <td>36.58</td>\n",
       "      <td>31.90</td>\n",
       "      <td>18.59</td>\n",
       "      <td>1</td>\n",
       "    </tr>\n",
       "    <tr>\n",
       "      <th>379</th>\n",
       "      <td>53</td>\n",
       "      <td>1</td>\n",
       "      <td>10.54</td>\n",
       "      <td>38.63</td>\n",
       "      <td>40.17</td>\n",
       "      <td>2.47</td>\n",
       "      <td>14.73</td>\n",
       "      <td>0.86</td>\n",
       "      <td>154.47</td>\n",
       "      <td>15.22</td>\n",
       "      <td>2.05</td>\n",
       "      <td>0</td>\n",
       "    </tr>\n",
       "    <tr>\n",
       "      <th>380</th>\n",
       "      <td>68</td>\n",
       "      <td>1</td>\n",
       "      <td>172.85</td>\n",
       "      <td>218.26</td>\n",
       "      <td>250.19</td>\n",
       "      <td>2.73</td>\n",
       "      <td>14.46</td>\n",
       "      <td>2.47</td>\n",
       "      <td>130.57</td>\n",
       "      <td>36.97</td>\n",
       "      <td>6.07</td>\n",
       "      <td>1</td>\n",
       "    </tr>\n",
       "    <tr>\n",
       "      <th>381</th>\n",
       "      <td>82</td>\n",
       "      <td>1</td>\n",
       "      <td>1878.04</td>\n",
       "      <td>414.90</td>\n",
       "      <td>10.19</td>\n",
       "      <td>2.89</td>\n",
       "      <td>16.08</td>\n",
       "      <td>1.14</td>\n",
       "      <td>38.22</td>\n",
       "      <td>12.63</td>\n",
       "      <td>13.73</td>\n",
       "      <td>1</td>\n",
       "    </tr>\n",
       "  </tbody>\n",
       "</table>\n",
       "<p>382 rows × 12 columns</p>\n",
       "</div>"
      ],
      "text/plain": [
       "     患者年龄  是否绝经  迈瑞CA125    迈瑞HE4  迈瑞CA199  迈瑞AFP  迈瑞NSE  迈瑞CEA  迈瑞IGF-1  \\\n",
       "0      23     0   712.66   188.21    20.29   2.77  20.15   0.85    24.37   \n",
       "1      49     0   437.61   386.24     9.23   2.73  25.52   2.65    29.37   \n",
       "2      31     0    55.73    37.53     1.00  80.65  13.65   1.27   132.43   \n",
       "3      46     0   592.89   453.94     9.88   2.84  15.98   0.45    61.16   \n",
       "4      49     0   392.84  1500.00     1.00   4.14  16.76   1.64    52.47   \n",
       "..    ...   ...      ...      ...      ...    ...    ...    ...      ...   \n",
       "377    54     1     5.58    41.31    12.50   2.10  14.64   0.50    96.78   \n",
       "378    56     1  5387.80  1500.00    80.47   3.23  29.62   1.23    36.58   \n",
       "379    53     1    10.54    38.63    40.17   2.47  14.73   0.86   154.47   \n",
       "380    68     1   172.85   218.26   250.19   2.73  14.46   2.47   130.57   \n",
       "381    82     1  1878.04   414.90    10.19   2.89  16.08   1.14    38.22   \n",
       "\n",
       "     迈瑞CA153  迈瑞CYFRA 21-1  良恶  \n",
       "0      10.56         18.23   1  \n",
       "1      29.32          8.95   1  \n",
       "2      13.39          1.54   1  \n",
       "3      12.18         21.98   1  \n",
       "4      58.86          4.01   1  \n",
       "..       ...           ...  ..  \n",
       "377    15.10          2.56   0  \n",
       "378    31.90         18.59   1  \n",
       "379    15.22          2.05   0  \n",
       "380    36.97          6.07   1  \n",
       "381    12.63         13.73   1  \n",
       "\n",
       "[382 rows x 12 columns]"
      ]
     },
     "execution_count": 2,
     "metadata": {},
     "output_type": "execute_result"
    }
   ],
   "source": [
    "df=pd.read_excel('test.xlsx')\n",
    "df.head()\n",
    "df"
   ]
  },
  {
   "cell_type": "code",
   "execution_count": 3,
   "metadata": {},
   "outputs": [
    {
     "data": {
      "text/html": [
       "<div>\n",
       "<style scoped>\n",
       "    .dataframe tbody tr th:only-of-type {\n",
       "        vertical-align: middle;\n",
       "    }\n",
       "\n",
       "    .dataframe tbody tr th {\n",
       "        vertical-align: top;\n",
       "    }\n",
       "\n",
       "    .dataframe thead th {\n",
       "        text-align: right;\n",
       "    }\n",
       "</style>\n",
       "<table border=\"1\" class=\"dataframe\">\n",
       "  <thead>\n",
       "    <tr style=\"text-align: right;\">\n",
       "      <th></th>\n",
       "      <th>患者年龄</th>\n",
       "      <th>是否绝经</th>\n",
       "      <th>迈瑞CA125</th>\n",
       "      <th>迈瑞HE4</th>\n",
       "      <th>迈瑞CA199</th>\n",
       "      <th>迈瑞AFP</th>\n",
       "      <th>迈瑞NSE</th>\n",
       "      <th>迈瑞CEA</th>\n",
       "      <th>迈瑞IGF-1</th>\n",
       "      <th>迈瑞CA153</th>\n",
       "      <th>迈瑞CYFRA 21-1</th>\n",
       "    </tr>\n",
       "  </thead>\n",
       "  <tbody>\n",
       "    <tr>\n",
       "      <th>0</th>\n",
       "      <td>-1.123404</td>\n",
       "      <td>-0.586658</td>\n",
       "      <td>0.447869</td>\n",
       "      <td>0.152925</td>\n",
       "      <td>-0.161970</td>\n",
       "      <td>-0.090560</td>\n",
       "      <td>0.614312</td>\n",
       "      <td>-0.225344</td>\n",
       "      <td>-1.966062</td>\n",
       "      <td>-0.231347</td>\n",
       "      <td>1.944419</td>\n",
       "    </tr>\n",
       "    <tr>\n",
       "      <th>1</th>\n",
       "      <td>0.682041</td>\n",
       "      <td>-0.586658</td>\n",
       "      <td>0.139876</td>\n",
       "      <td>0.837184</td>\n",
       "      <td>-0.248812</td>\n",
       "      <td>-0.090934</td>\n",
       "      <td>1.151218</td>\n",
       "      <td>0.299703</td>\n",
       "      <td>-1.885958</td>\n",
       "      <td>0.071807</td>\n",
       "      <td>0.682521</td>\n",
       "    </tr>\n",
       "    <tr>\n",
       "      <th>2</th>\n",
       "      <td>-0.567882</td>\n",
       "      <td>-0.586658</td>\n",
       "      <td>-0.287742</td>\n",
       "      <td>-0.367725</td>\n",
       "      <td>-0.313434</td>\n",
       "      <td>0.637914</td>\n",
       "      <td>-0.035575</td>\n",
       "      <td>-0.102833</td>\n",
       "      <td>-0.234867</td>\n",
       "      <td>-0.185615</td>\n",
       "      <td>-0.325093</td>\n",
       "    </tr>\n",
       "    <tr>\n",
       "      <th>3</th>\n",
       "      <td>0.473720</td>\n",
       "      <td>-0.586658</td>\n",
       "      <td>0.313754</td>\n",
       "      <td>1.071110</td>\n",
       "      <td>-0.243709</td>\n",
       "      <td>-0.089905</td>\n",
       "      <td>0.197384</td>\n",
       "      <td>-0.342021</td>\n",
       "      <td>-1.376661</td>\n",
       "      <td>-0.205168</td>\n",
       "      <td>2.454345</td>\n",
       "    </tr>\n",
       "    <tr>\n",
       "      <th>4</th>\n",
       "      <td>0.682041</td>\n",
       "      <td>-0.586658</td>\n",
       "      <td>0.089744</td>\n",
       "      <td>4.685593</td>\n",
       "      <td>-0.313434</td>\n",
       "      <td>-0.077745</td>\n",
       "      <td>0.275371</td>\n",
       "      <td>0.005093</td>\n",
       "      <td>-1.515881</td>\n",
       "      <td>0.549162</td>\n",
       "      <td>0.010779</td>\n",
       "    </tr>\n",
       "    <tr>\n",
       "      <th>...</th>\n",
       "      <td>...</td>\n",
       "      <td>...</td>\n",
       "      <td>...</td>\n",
       "      <td>...</td>\n",
       "      <td>...</td>\n",
       "      <td>...</td>\n",
       "      <td>...</td>\n",
       "      <td>...</td>\n",
       "      <td>...</td>\n",
       "      <td>...</td>\n",
       "      <td>...</td>\n",
       "    </tr>\n",
       "    <tr>\n",
       "      <th>377</th>\n",
       "      <td>1.029241</td>\n",
       "      <td>1.700110</td>\n",
       "      <td>-0.343898</td>\n",
       "      <td>-0.354663</td>\n",
       "      <td>-0.223137</td>\n",
       "      <td>-0.096827</td>\n",
       "      <td>0.063408</td>\n",
       "      <td>-0.327437</td>\n",
       "      <td>-0.806004</td>\n",
       "      <td>-0.157982</td>\n",
       "      <td>-0.186393</td>\n",
       "    </tr>\n",
       "    <tr>\n",
       "      <th>378</th>\n",
       "      <td>1.168122</td>\n",
       "      <td>1.700110</td>\n",
       "      <td>5.682950</td>\n",
       "      <td>4.685593</td>\n",
       "      <td>0.310559</td>\n",
       "      <td>-0.086257</td>\n",
       "      <td>1.561147</td>\n",
       "      <td>-0.114501</td>\n",
       "      <td>-1.770449</td>\n",
       "      <td>0.113499</td>\n",
       "      <td>1.993371</td>\n",
       "    </tr>\n",
       "    <tr>\n",
       "      <th>379</th>\n",
       "      <td>0.959801</td>\n",
       "      <td>1.700110</td>\n",
       "      <td>-0.338344</td>\n",
       "      <td>-0.363924</td>\n",
       "      <td>-0.005874</td>\n",
       "      <td>-0.093366</td>\n",
       "      <td>0.072406</td>\n",
       "      <td>-0.222427</td>\n",
       "      <td>0.118228</td>\n",
       "      <td>-0.156043</td>\n",
       "      <td>-0.255743</td>\n",
       "    </tr>\n",
       "    <tr>\n",
       "      <th>380</th>\n",
       "      <td>2.001404</td>\n",
       "      <td>1.700110</td>\n",
       "      <td>-0.156594</td>\n",
       "      <td>0.256757</td>\n",
       "      <td>1.643187</td>\n",
       "      <td>-0.090934</td>\n",
       "      <td>0.045411</td>\n",
       "      <td>0.247198</td>\n",
       "      <td>-0.264666</td>\n",
       "      <td>0.195428</td>\n",
       "      <td>0.290898</td>\n",
       "    </tr>\n",
       "    <tr>\n",
       "      <th>381</th>\n",
       "      <td>2.973566</td>\n",
       "      <td>1.700110</td>\n",
       "      <td>1.752826</td>\n",
       "      <td>0.936214</td>\n",
       "      <td>-0.241275</td>\n",
       "      <td>-0.089437</td>\n",
       "      <td>0.207383</td>\n",
       "      <td>-0.140753</td>\n",
       "      <td>-1.744175</td>\n",
       "      <td>-0.197896</td>\n",
       "      <td>1.332507</td>\n",
       "    </tr>\n",
       "  </tbody>\n",
       "</table>\n",
       "<p>382 rows × 11 columns</p>\n",
       "</div>"
      ],
      "text/plain": [
       "         患者年龄      是否绝经   迈瑞CA125     迈瑞HE4   迈瑞CA199     迈瑞AFP     迈瑞NSE  \\\n",
       "0   -1.123404 -0.586658  0.447869  0.152925 -0.161970 -0.090560  0.614312   \n",
       "1    0.682041 -0.586658  0.139876  0.837184 -0.248812 -0.090934  1.151218   \n",
       "2   -0.567882 -0.586658 -0.287742 -0.367725 -0.313434  0.637914 -0.035575   \n",
       "3    0.473720 -0.586658  0.313754  1.071110 -0.243709 -0.089905  0.197384   \n",
       "4    0.682041 -0.586658  0.089744  4.685593 -0.313434 -0.077745  0.275371   \n",
       "..        ...       ...       ...       ...       ...       ...       ...   \n",
       "377  1.029241  1.700110 -0.343898 -0.354663 -0.223137 -0.096827  0.063408   \n",
       "378  1.168122  1.700110  5.682950  4.685593  0.310559 -0.086257  1.561147   \n",
       "379  0.959801  1.700110 -0.338344 -0.363924 -0.005874 -0.093366  0.072406   \n",
       "380  2.001404  1.700110 -0.156594  0.256757  1.643187 -0.090934  0.045411   \n",
       "381  2.973566  1.700110  1.752826  0.936214 -0.241275 -0.089437  0.207383   \n",
       "\n",
       "        迈瑞CEA   迈瑞IGF-1   迈瑞CA153  迈瑞CYFRA 21-1  \n",
       "0   -0.225344 -1.966062 -0.231347      1.944419  \n",
       "1    0.299703 -1.885958  0.071807      0.682521  \n",
       "2   -0.102833 -0.234867 -0.185615     -0.325093  \n",
       "3   -0.342021 -1.376661 -0.205168      2.454345  \n",
       "4    0.005093 -1.515881  0.549162      0.010779  \n",
       "..        ...       ...       ...           ...  \n",
       "377 -0.327437 -0.806004 -0.157982     -0.186393  \n",
       "378 -0.114501 -1.770449  0.113499      1.993371  \n",
       "379 -0.222427  0.118228 -0.156043     -0.255743  \n",
       "380  0.247198 -0.264666  0.195428      0.290898  \n",
       "381 -0.140753 -1.744175 -0.197896      1.332507  \n",
       "\n",
       "[382 rows x 11 columns]"
      ]
     },
     "execution_count": 3,
     "metadata": {},
     "output_type": "execute_result"
    }
   ],
   "source": [
    "#分离数据\n",
    "dx=df.columns[:-1]\n",
    "dy=df.columns[-1]\n",
    "x=df[dx]\n",
    "y=df[dy]\n",
    "#z-score标准化\n",
    "x=(x-x.mean())/(x.std())\n",
    "x"
   ]
  },
  {
   "cell_type": "code",
   "execution_count": 4,
   "metadata": {},
   "outputs": [
    {
     "data": {
      "text/plain": [
       "array([0.12443659, 0.12214758, 0.33152243, 0.33823194, 0.        ,\n",
       "       0.05266316, 0.04626691, 0.        , 0.19070876, 0.2129458 ,\n",
       "       0.24480482])"
      ]
     },
     "execution_count": 4,
     "metadata": {},
     "output_type": "execute_result"
    }
   ],
   "source": [
    "#特征选择(相关性分析):采取互信息量法进行计算\n",
    "from sklearn.feature_selection import mutual_info_classif as MIC\n",
    "result=MIC(x,y)\n",
    "result"
   ]
  },
  {
   "cell_type": "code",
   "execution_count": 5,
   "metadata": {},
   "outputs": [
    {
     "data": {
      "text/plain": [
       "array([114.48893299,  89.91887118, 196.04343095, 260.02793981,\n",
       "         0.31974296,  12.63658035,  11.26965535,   1.65874761,\n",
       "       148.13900805,  98.62392381, 129.28208479])"
      ]
     },
     "execution_count": 5,
     "metadata": {},
     "output_type": "execute_result"
    }
   ],
   "source": [
    "#基于F检验\n",
    "from sklearn.feature_selection import f_classif\n",
    "F, pvalues_f = f_classif(x,y)\n",
    "F"
   ]
  },
  {
   "cell_type": "code",
   "execution_count": 6,
   "metadata": {},
   "outputs": [],
   "source": [
    "#暂时筛选出5678列不要\n",
    "x_selected=x[x.columns[[0,2,3,8,9,10]]]"
   ]
  },
  {
   "cell_type": "code",
   "execution_count": 37,
   "metadata": {},
   "outputs": [
    {
     "data": {
      "text/html": [
       "<div>\n",
       "<style scoped>\n",
       "    .dataframe tbody tr th:only-of-type {\n",
       "        vertical-align: middle;\n",
       "    }\n",
       "\n",
       "    .dataframe tbody tr th {\n",
       "        vertical-align: top;\n",
       "    }\n",
       "\n",
       "    .dataframe thead th {\n",
       "        text-align: right;\n",
       "    }\n",
       "</style>\n",
       "<table border=\"1\" class=\"dataframe\">\n",
       "  <thead>\n",
       "    <tr style=\"text-align: right;\">\n",
       "      <th></th>\n",
       "      <th>患者年龄</th>\n",
       "      <th>迈瑞CA125</th>\n",
       "      <th>迈瑞HE4</th>\n",
       "      <th>迈瑞IGF-1</th>\n",
       "      <th>迈瑞CA153</th>\n",
       "      <th>迈瑞CYFRA 21-1</th>\n",
       "    </tr>\n",
       "  </thead>\n",
       "  <tbody>\n",
       "    <tr>\n",
       "      <th>0</th>\n",
       "      <td>-1.123404</td>\n",
       "      <td>0.447869</td>\n",
       "      <td>0.152925</td>\n",
       "      <td>-1.966062</td>\n",
       "      <td>-0.231347</td>\n",
       "      <td>1.944419</td>\n",
       "    </tr>\n",
       "    <tr>\n",
       "      <th>1</th>\n",
       "      <td>0.682041</td>\n",
       "      <td>0.139876</td>\n",
       "      <td>0.837184</td>\n",
       "      <td>-1.885958</td>\n",
       "      <td>0.071807</td>\n",
       "      <td>0.682521</td>\n",
       "    </tr>\n",
       "    <tr>\n",
       "      <th>2</th>\n",
       "      <td>-0.567882</td>\n",
       "      <td>-0.287742</td>\n",
       "      <td>-0.367725</td>\n",
       "      <td>-0.234867</td>\n",
       "      <td>-0.185615</td>\n",
       "      <td>-0.325093</td>\n",
       "    </tr>\n",
       "    <tr>\n",
       "      <th>3</th>\n",
       "      <td>0.473720</td>\n",
       "      <td>0.313754</td>\n",
       "      <td>1.071110</td>\n",
       "      <td>-1.376661</td>\n",
       "      <td>-0.205168</td>\n",
       "      <td>2.454345</td>\n",
       "    </tr>\n",
       "    <tr>\n",
       "      <th>4</th>\n",
       "      <td>0.682041</td>\n",
       "      <td>0.089744</td>\n",
       "      <td>4.685593</td>\n",
       "      <td>-1.515881</td>\n",
       "      <td>0.549162</td>\n",
       "      <td>0.010779</td>\n",
       "    </tr>\n",
       "    <tr>\n",
       "      <th>...</th>\n",
       "      <td>...</td>\n",
       "      <td>...</td>\n",
       "      <td>...</td>\n",
       "      <td>...</td>\n",
       "      <td>...</td>\n",
       "      <td>...</td>\n",
       "    </tr>\n",
       "    <tr>\n",
       "      <th>377</th>\n",
       "      <td>1.029241</td>\n",
       "      <td>-0.343898</td>\n",
       "      <td>-0.354663</td>\n",
       "      <td>-0.806004</td>\n",
       "      <td>-0.157982</td>\n",
       "      <td>-0.186393</td>\n",
       "    </tr>\n",
       "    <tr>\n",
       "      <th>378</th>\n",
       "      <td>1.168122</td>\n",
       "      <td>5.682950</td>\n",
       "      <td>4.685593</td>\n",
       "      <td>-1.770449</td>\n",
       "      <td>0.113499</td>\n",
       "      <td>1.993371</td>\n",
       "    </tr>\n",
       "    <tr>\n",
       "      <th>379</th>\n",
       "      <td>0.959801</td>\n",
       "      <td>-0.338344</td>\n",
       "      <td>-0.363924</td>\n",
       "      <td>0.118228</td>\n",
       "      <td>-0.156043</td>\n",
       "      <td>-0.255743</td>\n",
       "    </tr>\n",
       "    <tr>\n",
       "      <th>380</th>\n",
       "      <td>2.001404</td>\n",
       "      <td>-0.156594</td>\n",
       "      <td>0.256757</td>\n",
       "      <td>-0.264666</td>\n",
       "      <td>0.195428</td>\n",
       "      <td>0.290898</td>\n",
       "    </tr>\n",
       "    <tr>\n",
       "      <th>381</th>\n",
       "      <td>2.973566</td>\n",
       "      <td>1.752826</td>\n",
       "      <td>0.936214</td>\n",
       "      <td>-1.744175</td>\n",
       "      <td>-0.197896</td>\n",
       "      <td>1.332507</td>\n",
       "    </tr>\n",
       "  </tbody>\n",
       "</table>\n",
       "<p>382 rows × 6 columns</p>\n",
       "</div>"
      ],
      "text/plain": [
       "         患者年龄   迈瑞CA125     迈瑞HE4   迈瑞IGF-1   迈瑞CA153  迈瑞CYFRA 21-1\n",
       "0   -1.123404  0.447869  0.152925 -1.966062 -0.231347      1.944419\n",
       "1    0.682041  0.139876  0.837184 -1.885958  0.071807      0.682521\n",
       "2   -0.567882 -0.287742 -0.367725 -0.234867 -0.185615     -0.325093\n",
       "3    0.473720  0.313754  1.071110 -1.376661 -0.205168      2.454345\n",
       "4    0.682041  0.089744  4.685593 -1.515881  0.549162      0.010779\n",
       "..        ...       ...       ...       ...       ...           ...\n",
       "377  1.029241 -0.343898 -0.354663 -0.806004 -0.157982     -0.186393\n",
       "378  1.168122  5.682950  4.685593 -1.770449  0.113499      1.993371\n",
       "379  0.959801 -0.338344 -0.363924  0.118228 -0.156043     -0.255743\n",
       "380  2.001404 -0.156594  0.256757 -0.264666  0.195428      0.290898\n",
       "381  2.973566  1.752826  0.936214 -1.744175 -0.197896      1.332507\n",
       "\n",
       "[382 rows x 6 columns]"
      ]
     },
     "execution_count": 37,
     "metadata": {},
     "output_type": "execute_result"
    }
   ],
   "source": [
    "x_selected"
   ]
  },
  {
   "cell_type": "code",
   "execution_count": 8,
   "metadata": {},
   "outputs": [],
   "source": [
    "#[114.48893299,   196.04343095, 260.02793981,148.13900805,  98.62392381, 129.28208479]\n",
    "#'患者年龄'     '迈瑞CA125'   '迈瑞HE4'   '迈瑞IGF-1', '迈瑞CA153', '迈瑞CYFRA 21-1'"
   ]
  },
  {
   "cell_type": "code",
   "execution_count": 9,
   "metadata": {},
   "outputs": [
    {
     "name": "stdout",
     "output_type": "stream",
     "text": [
      "Fitting 5 folds for each of 4851 candidates, totalling 24255 fits\n"
     ]
    },
    {
     "data": {
      "text/plain": [
       "GridSearchCV(cv=5, estimator=SVC(kernel='sigmoid'), n_jobs=-1,\n",
       "             param_grid={'C': array([0.01, 0.02, 0.03, 0.04, 0.05, 0.06, 0.07, 0.08, 0.09, 0.1 , 0.11,\n",
       "       0.12, 0.13, 0.14, 0.15, 0.16, 0.17, 0.18, 0.19, 0.2 , 0.21, 0.22,\n",
       "       0.23, 0.24, 0.25, 0.26, 0.27, 0.28, 0.29, 0.3 , 0.31, 0.32, 0.33,\n",
       "       0.34, 0.35, 0.36, 0.37, 0.38, 0.39, 0.4 , 0.41, 0.42, 0.43, 0.44,\n",
       "       0.45, 0.46, 0.47, 0.48, 0.49, 0.5 , 0.51, 0.52, 0.53, 0.54, 0....\n",
       "       0.78, 0.79, 0.8 , 0.81, 0.82, 0.83, 0.84, 0.85, 0.86, 0.87, 0.88,\n",
       "       0.89, 0.9 , 0.91, 0.92, 0.93, 0.94, 0.95, 0.96, 0.97, 0.98, 0.99]),\n",
       "                         'gamma': array([0.01, 0.02, 0.03, 0.04, 0.05, 0.06, 0.07, 0.08, 0.09, 0.1 , 0.11,\n",
       "       0.12, 0.13, 0.14, 0.15, 0.16, 0.17, 0.18, 0.19, 0.2 , 0.21, 0.22,\n",
       "       0.23, 0.24, 0.25, 0.26, 0.27, 0.28, 0.29, 0.3 , 0.31, 0.32, 0.33,\n",
       "       0.34, 0.35, 0.36, 0.37, 0.38, 0.39, 0.4 , 0.41, 0.42, 0.43, 0.44,\n",
       "       0.45, 0.46, 0.47, 0.48, 0.49])},\n",
       "             scoring='accuracy', verbose=1)"
      ]
     },
     "execution_count": 9,
     "metadata": {},
     "output_type": "execute_result"
    }
   ],
   "source": [
    "#进行SVM分类计算(寻找最优SVM)\n",
    "from sklearn.model_selection import GridSearchCV\n",
    "from sklearn.svm import SVC\n",
    "svm_model=SVC(kernel='sigmoid')\n",
    "param_grid = {'C' : np.arange(0.01,1,0.01),\n",
    "              'gamma':np.arange(0.01,0.5,0.01)}\n",
    "clf=GridSearchCV(svm_model,param_grid=param_grid,cv=5,n_jobs=-1,scoring='accuracy',verbose=1)\n",
    "clf.fit(x_selected,y)\n",
    "#最优参数为{'C': 0.1, 'gamma': 0.06}"
   ]
  },
  {
   "cell_type": "code",
   "execution_count": 10,
   "metadata": {},
   "outputs": [
    {
     "data": {
      "text/plain": [
       "{'C': 0.91, 'gamma': 0.23}"
      ]
     },
     "execution_count": 10,
     "metadata": {},
     "output_type": "execute_result"
    }
   ],
   "source": [
    "clf.best_params_"
   ]
  },
  {
   "cell_type": "code",
   "execution_count": 11,
   "metadata": {},
   "outputs": [
    {
     "data": {
      "text/plain": [
       "0.9477443609022556"
      ]
     },
     "execution_count": 11,
     "metadata": {},
     "output_type": "execute_result"
    }
   ],
   "source": [
    "clf.best_score_\n",
    "#绘制迭代曲线"
   ]
  },
  {
   "cell_type": "code",
   "execution_count": 57,
   "metadata": {},
   "outputs": [
    {
     "name": "stdout",
     "output_type": "stream",
     "text": [
      "Train Accuracy:  0.9288389513108615\n",
      "Test Accuracy: 0.9478260869565217\n"
     ]
    }
   ],
   "source": [
    "svm_model=SVC(kernel='sigmoid',C=0.91,gamma=0.23)\n",
    "x_train,x_test,y_train,y_test=train_test_split(x_selected,y,test_size=0.3,random_state=10)\n",
    "svm_model.fit(x_train,y_train)\n",
    "train_pred=svm_model.predict(x_train)\n",
    "train_acc = accuracy_score(y_train,train_pred)\n",
    "print('Train Accuracy: ', train_acc)\n",
    "test_pred =svm_model.predict(x_test)\n",
    "test_acc = accuracy_score(y_test,test_pred)\n",
    "print('Test Accuracy:', test_acc)"
   ]
  },
  {
   "cell_type": "code",
   "execution_count": 58,
   "metadata": {},
   "outputs": [
    {
     "name": "stdout",
     "output_type": "stream",
     "text": [
      "3 8 23 34 44 120 136 174 181 193 285 289 292 294 295 296 299 303 304 319 337 359 360 365 369 "
     ]
    }
   ],
   "source": [
    "predict__=svm_model.predict(x_selected)\n",
    "for i in range(len(predict__)):\n",
    "    if predict__[i]!=y[i]:\n",
    "        print(i+1,end=' ')"
   ]
  },
  {
   "cell_type": "code",
   "execution_count": null,
   "metadata": {},
   "outputs": [],
   "source": [
    "from sklearn.model_selection import GridSearchCV\n",
    "from sklearn.linear_model import LogisticRegression\n",
    "model1_log=LogisticRegression(penalty='l2')\n",
    "param_grid={\n",
    "    'max_iter' : np.arange(100,1001,100),\n",
    "    'C' : np.arange(0.1,5,0.1)\n",
    "}\n",
    "clf=GridSearchCV(model1_log,param_grid=param_grid,cv=5,n_jobs=-1,scoring='accuracy',verbose=1)\n",
    "clf.fit(x_selected,y)"
   ]
  },
  {
   "cell_type": "code",
   "execution_count": 59,
   "metadata": {},
   "outputs": [
    {
     "name": "stdout",
     "output_type": "stream",
     "text": [
      "Train Accuracy:  0.9325842696629213\n",
      "Test Accuracy: 0.9652173913043478\n"
     ]
    }
   ],
   "source": [
    "#逻辑回归进行二分类\n",
    "from sklearn.linear_model import LogisticRegression\n",
    "model_log = LogisticRegression(penalty='l2',max_iter=1000,C=1.0)\n",
    "x_train,x_test,y_train,y_test=train_test_split(x_selected,y,test_size=0.3,random_state=10)\n",
    "model_log.fit(x_train,y_train)\n",
    "train_pred=model_log.predict(x_train)\n",
    "train_acc = accuracy_score(y_train,train_pred)\n",
    "print('Train Accuracy: ', train_acc)\n",
    "test_pred = model_log.predict(x_test)\n",
    "test_acc = accuracy_score(y_test,test_pred)\n",
    "print('Test Accuracy:', test_acc)"
   ]
  },
  {
   "cell_type": "code",
   "execution_count": null,
   "metadata": {},
   "outputs": [],
   "source": [
    "predict__=model_log.predict(x_selected)\n",
    "for i in range(len(predict__)):\n",
    "    if predict__[i]!=y[i]:\n",
    "        print(i+1,end=' ')"
   ]
  },
  {
   "cell_type": "code",
   "execution_count": 13,
   "metadata": {},
   "outputs": [
    {
     "name": "stdout",
     "output_type": "stream",
     "text": [
      "Fitting 5 folds for each of 490 candidates, totalling 2450 fits\n"
     ]
    },
    {
     "data": {
      "text/plain": [
       "GridSearchCV(cv=5, estimator=LogisticRegression(), n_jobs=-1,\n",
       "             param_grid={'C': array([0.1, 0.2, 0.3, 0.4, 0.5, 0.6, 0.7, 0.8, 0.9, 1. , 1.1, 1.2, 1.3,\n",
       "       1.4, 1.5, 1.6, 1.7, 1.8, 1.9, 2. , 2.1, 2.2, 2.3, 2.4, 2.5, 2.6,\n",
       "       2.7, 2.8, 2.9, 3. , 3.1, 3.2, 3.3, 3.4, 3.5, 3.6, 3.7, 3.8, 3.9,\n",
       "       4. , 4.1, 4.2, 4.3, 4.4, 4.5, 4.6, 4.7, 4.8, 4.9]),\n",
       "                         'max_iter': array([ 100,  200,  300,  400,  500,  600,  700,  800,  900, 1000])},\n",
       "             scoring='accuracy', verbose=1)"
      ]
     },
     "execution_count": 13,
     "metadata": {},
     "output_type": "execute_result"
    }
   ],
   "source": [
    "from sklearn.model_selection import GridSearchCV\n",
    "model1_log=LogisticRegression(penalty='l2')\n",
    "max_iter=np.arange(100,1001,100)\n",
    "C=np.arange(0.1,5,0.1)\n",
    "param_grid={\n",
    "    'max_iter' : np.arange(100,1001,100),\n",
    "    'C' : np.arange(0.1,5,0.1)\n",
    "}\n",
    "clf=GridSearchCV(model1_log,param_grid=param_grid,cv=5,n_jobs=-1,scoring='accuracy',verbose=1)\n",
    "clf.fit(x_selected,y)"
   ]
  },
  {
   "cell_type": "code",
   "execution_count": 48,
   "metadata": {},
   "outputs": [
    {
     "name": "stdout",
     "output_type": "stream",
     "text": [
      "Fitting 5 folds for each of 25 candidates, totalling 125 fits\n"
     ]
    },
    {
     "data": {
      "text/plain": [
       "GridSearchCV(cv=5, estimator=RandomForestClassifier(), n_jobs=-1,\n",
       "             param_grid={'max_depth': [3, 4, 5, 6, 7],\n",
       "                         'n_estimators': [50, 100, 150, 200, 300]},\n",
       "             scoring='accuracy', verbose=1)"
      ]
     },
     "execution_count": 48,
     "metadata": {},
     "output_type": "execute_result"
    }
   ],
   "source": [
    "\n",
    "from sklearn.ensemble import RandomForestClassifier\n",
    "param_grid = {\n",
    "        \"n_estimators\": [50,100,150,200,300], # 多少棵树\n",
    "        \"max_depth\": [3,4,5,6,7], # 树的最大深度\n",
    "    }\n",
    "rd_model=RandomForestClassifier()\n",
    "clf_rd = GridSearchCV(rd_model, param_grid, cv=5, scoring='accuracy',verbose=1,n_jobs=-1)\n",
    "clf_rd.fit(x_selected,y)"
   ]
  },
  {
   "cell_type": "code",
   "execution_count": 49,
   "metadata": {},
   "outputs": [
    {
     "data": {
      "text/plain": [
       "{'max_depth': 3, 'n_estimators': 150}"
      ]
     },
     "execution_count": 49,
     "metadata": {},
     "output_type": "execute_result"
    }
   ],
   "source": [
    "clf_rd.best_params_"
   ]
  },
  {
   "cell_type": "code",
   "execution_count": 50,
   "metadata": {},
   "outputs": [
    {
     "data": {
      "text/plain": [
       "0.9318865345181134"
      ]
     },
     "execution_count": 50,
     "metadata": {},
     "output_type": "execute_result"
    }
   ],
   "source": [
    "clf_rd.best_score_"
   ]
  },
  {
   "cell_type": "code",
   "execution_count": 51,
   "metadata": {},
   "outputs": [
    {
     "data": {
      "text/plain": [
       "0.9652173913043478"
      ]
     },
     "execution_count": 51,
     "metadata": {},
     "output_type": "execute_result"
    }
   ],
   "source": [
    "forest1 = RandomForestClassifier(n_estimators=150, random_state=0, n_jobs=-1,max_depth=3)\n",
    "forest1.fit(x_train, y_train)\n",
    "score = forest1.score(x_test, y_test)\n",
    "score"
   ]
  },
  {
   "cell_type": "code",
   "execution_count": 52,
   "metadata": {},
   "outputs": [
    {
     "name": "stdout",
     "output_type": "stream",
     "text": [
      " 1) 迈瑞CA125                        0.402139\n",
      " 2) 迈瑞HE4                          0.327614\n",
      " 3) 迈瑞CA153                        0.101979\n",
      " 4) 迈瑞CYFRA 21-1                   0.092679\n",
      " 5) 迈瑞IGF-1                        0.041797\n",
      " 6) 患者年龄                           0.033792\n"
     ]
    }
   ],
   "source": [
    "#判决指标的重要性\n",
    "feat_labels=x_selected.columns\n",
    "importances = forest1.feature_importances_\n",
    "indices = np.argsort(importances)[::-1] # 下标排序\n",
    "for f in range(x_selected.shape[1]):   # x_train.shape[1]=7\n",
    "    print(\"%2d) %-*s %f\" % \\\n",
    "          (f + 1, 30, feat_labels[indices[f]], importances[indices[f]]))"
   ]
  },
  {
   "cell_type": "code",
   "execution_count": 53,
   "metadata": {},
   "outputs": [
    {
     "name": "stdout",
     "output_type": "stream",
     "text": [
      "Fitting 5 folds for each of 400 candidates, totalling 2000 fits\n"
     ]
    },
    {
     "data": {
      "text/plain": [
       "GridSearchCV(cv=5,\n",
       "             estimator=XGBClassifier(base_score=None, booster=None,\n",
       "                                     callbacks=None, colsample_bylevel=None,\n",
       "                                     colsample_bynode=None,\n",
       "                                     colsample_bytree=None,\n",
       "                                     early_stopping_rounds=None,\n",
       "                                     enable_categorical=False, eval_metric=None,\n",
       "                                     gamma=None, gpu_id=None, grow_policy=None,\n",
       "                                     importance_type=None,\n",
       "                                     interaction_constraints=None,\n",
       "                                     learning_rate=None, max_bin=None,\n",
       "                                     max_ca...\n",
       "                                     max_leaves=None, min_child_weight=None,\n",
       "                                     missing=nan, monotone_constraints=None,\n",
       "                                     n_estimators=100, n_jobs=None,\n",
       "                                     num_parallel_tree=None, predictor=None,\n",
       "                                     random_state=None, reg_alpha=None,\n",
       "                                     reg_lambda=None, ...),\n",
       "             n_jobs=-1,\n",
       "             param_grid={'learning_rate': [0.05, 0.1, 0.2, 0.3],\n",
       "                         'max_depth': [3, 4, 5, 6, 7],\n",
       "                         'n_estimators': [50, 100, 150, 200, 300],\n",
       "                         'subsample': [0.4, 0.6, 0.8, 1]},\n",
       "             scoring='accuracy', verbose=1)"
      ]
     },
     "execution_count": 53,
     "metadata": {},
     "output_type": "execute_result"
    }
   ],
   "source": [
    "#运用GBDT树\n",
    "from xgboost import XGBClassifier\n",
    "param_grid = {\n",
    "        \"n_estimators\": [50,100,150,200,300], # 多少棵树\n",
    "        \"learning_rate\": [0.05, 0.1, 0.2, 0.3], # 学习率\n",
    "        \"max_depth\": [3,4,5,6,7], # 树的最大深度\n",
    "        \"subsample\": [0.4,0.6,0.8,1], # 选择多少列构建一个树\n",
    "    }\n",
    "xg_model=XGBClassifier()\n",
    "clf_xgb = GridSearchCV(xg_model, param_grid, cv=5, scoring='accuracy',verbose=1,n_jobs=-1)\n",
    "clf_xgb.fit(x_selected,y)"
   ]
  },
  {
   "cell_type": "code",
   "execution_count": 54,
   "metadata": {},
   "outputs": [
    {
     "data": {
      "text/plain": [
       "{'learning_rate': 0.05, 'max_depth': 3, 'n_estimators': 50, 'subsample': 0.4}"
      ]
     },
     "execution_count": 54,
     "metadata": {},
     "output_type": "execute_result"
    }
   ],
   "source": [
    "clf_xgb.best_params_"
   ]
  },
  {
   "cell_type": "code",
   "execution_count": 55,
   "metadata": {},
   "outputs": [
    {
     "name": "stdout",
     "output_type": "stream",
     "text": [
      "0.9739130434782609\n"
     ]
    }
   ],
   "source": [
    "gbdt_model=XGBClassifier(learning_rate=0.05, max_depth=3, n_estimators=50, subsample= 0.4)\n",
    "gbdt_model.fit(x_train, y_train)\n",
    "print(gbdt_model.score(x_test, y_test))"
   ]
  },
  {
   "cell_type": "code",
   "execution_count": 56,
   "metadata": {},
   "outputs": [
    {
     "name": "stdout",
     "output_type": "stream",
     "text": [
      " 1) 迈瑞HE4                          0.411135\n",
      " 2) 迈瑞CA125                        0.336622\n",
      " 3) 迈瑞CA153                        0.082996\n",
      " 4) 迈瑞IGF-1                        0.071358\n",
      " 5) 患者年龄                           0.051021\n",
      " 6) 迈瑞CYFRA 21-1                   0.046868\n"
     ]
    }
   ],
   "source": [
    "importances = gbdt_model.feature_importances_\n",
    "indices = np.argsort(importances)[::-1] # 下标排序\n",
    "for f in range(x_train.shape[1]):   # x_train.shape[1]=7\n",
    "    print(\"%2d) %-*s %f\" % \\\n",
    "          (f + 1, 30, feat_labels[indices[f]], importances[indices[f]]))"
   ]
  }
 ],
 "metadata": {
  "kernelspec": {
   "display_name": "pytorch",
   "language": "python",
   "name": "python3"
  },
  "language_info": {
   "codemirror_mode": {
    "name": "ipython",
    "version": 3
   },
   "file_extension": ".py",
   "mimetype": "text/x-python",
   "name": "python",
   "nbconvert_exporter": "python",
   "pygments_lexer": "ipython3",
   "version": "3.7.11"
  }
 },
 "nbformat": 4,
 "nbformat_minor": 2
}
